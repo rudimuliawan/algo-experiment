{
 "cells": [
  {
   "cell_type": "code",
   "execution_count": null,
   "id": "818c6927-2688-4b79-b4ef-b3cb1976710f",
   "metadata": {},
   "outputs": [],
   "source": [
    "# exercise 2.1.2\n",
    "# (n-1)(n-2)(n-3) .. 1"
   ]
  },
  {
   "cell_type": "code",
   "execution_count": null,
   "id": "b0e41f90-c396-4f8f-9d4e-691aa54b42d9",
   "metadata": {},
   "outputs": [],
   "source": [
    "# exercise 2.1.3\n",
    "# "
   ]
  },
  {
   "cell_type": "code",
   "execution_count": null,
   "id": "682c1382-f010-4fd6-99de-1ef1c254ad1e",
   "metadata": {},
   "outputs": [],
   "source": [
    "# Exercise 2.1.4\n",
    "# E A S Y Q U E S T I O N\n",
    "# A E S Y Q U E S T I O N\n",
    "# A E E Y Q U S S T I O N\n",
    "# A E E I Q U S S T Y O N\n",
    "# A E E I N U S S T Y O N\n",
    "# A E E I N N S S T Y O U\n",
    "# A E E I N N O S T Y S U\n",
    "# A E E I N N O S T Y S U\n",
    "# A E E I N N O S S Y T U\n",
    "# A E E I N N O S S T Y U\n",
    "# A E E I N N O S S T U Y\n",
    "# A E E I N N O S S T U Y"
   ]
  },
  {
   "cell_type": "code",
   "execution_count": null,
   "id": "5b4f7131-fef6-4782-851a-5f4436cd60cb",
   "metadata": {},
   "outputs": [],
   "source": [
    "# E A S Y Q U E S T I O N\n",
    "# A E S Y Q U E S T I O N\n",
    "# A E Q S Y U E S T I O N\n",
    "# A E Q S U Y E S T I O N\n",
    "# A E E Q S U Y S T I O N\n",
    "# A E E Q S S U Y T I O N\n",
    "# A E E Q S S T U Y I O N\n",
    "# A E E I Q S S T U Y O N\n",
    "# A E E I O Q S S T U Y N\n",
    "# A E E I N O Q S S T U Y "
   ]
  },
  {
   "cell_type": "code",
   "execution_count": null,
   "id": "2d4bd718-677a-4db1-91a0-5774c4f3b62d",
   "metadata": {},
   "outputs": [],
   "source": [
    "# Exercise 2.1.5\n",
    "# the array is sorted"
   ]
  },
  {
   "cell_type": "code",
   "execution_count": null,
   "id": "f126a94b-1ca7-45f8-9f30-ac3360b5ce9e",
   "metadata": {},
   "outputs": [],
   "source": [
    "# Exercise 2.1.6\n",
    "# Insertion sort will run faster on array which's keys are identical"
   ]
  },
  {
   "cell_type": "code",
   "execution_count": null,
   "id": "2e238c1d-af3e-41a8-85e9-e98180154ea6",
   "metadata": {},
   "outputs": [],
   "source": [
    "# Exercise 2.1.7\n",
    "# Selection sort will run faster on array in reverse order"
   ]
  },
  {
   "cell_type": "code",
   "execution_count": null,
   "id": "f2b48664-d7ea-401d-8315-f153252f6497",
   "metadata": {},
   "outputs": [],
   "source": [
    "# Exercise 2.1.15\n",
    "# Selection sort!"
   ]
  }
 ],
 "metadata": {
  "kernelspec": {
   "display_name": "Python 3 (ipykernel)",
   "language": "python",
   "name": "python3"
  },
  "language_info": {
   "codemirror_mode": {
    "name": "ipython",
    "version": 3
   },
   "file_extension": ".py",
   "mimetype": "text/x-python",
   "name": "python",
   "nbconvert_exporter": "python",
   "pygments_lexer": "ipython3",
   "version": "3.10.12"
  }
 },
 "nbformat": 4,
 "nbformat_minor": 5
}
